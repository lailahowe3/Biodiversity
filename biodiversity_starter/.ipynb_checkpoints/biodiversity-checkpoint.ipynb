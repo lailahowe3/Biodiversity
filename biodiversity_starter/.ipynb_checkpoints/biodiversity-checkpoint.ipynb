{
 "cells": [
  {
   "cell_type": "markdown",
   "metadata": {},
   "source": [
    "# Biodiversity in National Parks\n",
    "\n",
    "## Introduction\n",
    "\n",
    "The goal of this project is to analyse data from the National Parks Service about endangered species in different parks.\n",
    "\n",
    "The project will analyse and plot the data and explain any findings.\n",
    "\n",
    "The data used for this project will be from observations.csv and species_info.csv. Both files have been provided by Codecademy.\n",
    "\n",
    "N.B this data has problems that have arisen from the simulated data. There are repeated species with differing conservation status which we cannot resolve as this is simulated data. Ideally the true conservation status of each species would be found and incorrect rows deleted. As this species data was clearly used to simulate the observations data the issue of repeated species carries over. It is the same species that have repeated rows, however, the observation numbers are different so cannot be removed through deleting duplicates. "
   ]
  },
  {
   "cell_type": "markdown",
   "metadata": {},
   "source": [
    "## Goals\n",
    "The goals for this project are to determine any factors which may help protect or prevent species from being endagered. For this analysis the followng questions will look to be answered: \n",
    " - What is the distribution of the conservation status of species? \n",
    " - Does particular National Parks have more endagered species?\n",
    " - Are certain categories of species more likely to be endangered? \n",
    " - What is the distribution between parks of the most prevelant and least prevelant species?\n",
    "\n",
    "## Data\n",
    "The data being used for this project is contained within the observations.csv and species_info.csv. This data has been provided by Codecademy and has been simulated based off real data. The data contains information about species observations within the national parks and information about the species and their conservation status. "
   ]
  },
  {
   "cell_type": "markdown",
   "metadata": {},
   "source": [
    "First step is to import the modules needed for this project, load the data into dataframes and view a sample."
   ]
  },
  {
   "cell_type": "code",
   "execution_count": 13,
   "metadata": {},
   "outputs": [],
   "source": [
    "# import modules\n",
    "import pandas as pd\n",
    "import numpy as np\n",
    "import matplotlib.pyplot as plt\n",
    "import seaborn as sns"
   ]
  },
  {
   "cell_type": "markdown",
   "metadata": {},
   "source": [
    "Our observations data contains information on the recorded sightings of species in the past 7 days for different national parks. The columns are: \n",
    " - scientific_name (name of each species)\n",
    " - park_name (name of each national park)\n",
    " - observations (number of sightings in the past 7 days)"
   ]
  },
  {
   "cell_type": "code",
   "execution_count": 135,
   "metadata": {},
   "outputs": [
    {
     "data": {
      "text/html": [
       "<div>\n",
       "<style scoped>\n",
       "    .dataframe tbody tr th:only-of-type {\n",
       "        vertical-align: middle;\n",
       "    }\n",
       "\n",
       "    .dataframe tbody tr th {\n",
       "        vertical-align: top;\n",
       "    }\n",
       "\n",
       "    .dataframe thead th {\n",
       "        text-align: right;\n",
       "    }\n",
       "</style>\n",
       "<table border=\"1\" class=\"dataframe\">\n",
       "  <thead>\n",
       "    <tr style=\"text-align: right;\">\n",
       "      <th></th>\n",
       "      <th>scientific_name</th>\n",
       "      <th>park_name</th>\n",
       "      <th>observations</th>\n",
       "    </tr>\n",
       "  </thead>\n",
       "  <tbody>\n",
       "    <tr>\n",
       "      <th>0</th>\n",
       "      <td>Vicia benghalensis</td>\n",
       "      <td>Great Smoky Mountains National Park</td>\n",
       "      <td>68</td>\n",
       "    </tr>\n",
       "    <tr>\n",
       "      <th>1</th>\n",
       "      <td>Neovison vison</td>\n",
       "      <td>Great Smoky Mountains National Park</td>\n",
       "      <td>77</td>\n",
       "    </tr>\n",
       "    <tr>\n",
       "      <th>2</th>\n",
       "      <td>Prunus subcordata</td>\n",
       "      <td>Yosemite National Park</td>\n",
       "      <td>138</td>\n",
       "    </tr>\n",
       "    <tr>\n",
       "      <th>3</th>\n",
       "      <td>Abutilon theophrasti</td>\n",
       "      <td>Bryce National Park</td>\n",
       "      <td>84</td>\n",
       "    </tr>\n",
       "    <tr>\n",
       "      <th>4</th>\n",
       "      <td>Githopsis specularioides</td>\n",
       "      <td>Great Smoky Mountains National Park</td>\n",
       "      <td>85</td>\n",
       "    </tr>\n",
       "  </tbody>\n",
       "</table>\n",
       "</div>"
      ],
      "text/plain": [
       "            scientific_name                            park_name  observations\n",
       "0        Vicia benghalensis  Great Smoky Mountains National Park            68\n",
       "1            Neovison vison  Great Smoky Mountains National Park            77\n",
       "2         Prunus subcordata               Yosemite National Park           138\n",
       "3      Abutilon theophrasti                  Bryce National Park            84\n",
       "4  Githopsis specularioides  Great Smoky Mountains National Park            85"
      ]
     },
     "execution_count": 135,
     "metadata": {},
     "output_type": "execute_result"
    }
   ],
   "source": [
    "# load and view observations data\n",
    "observations = pd.read_csv('observations.csv')\n",
    "observations.head()"
   ]
  },
  {
   "cell_type": "markdown",
   "metadata": {},
   "source": [
    "Our species data contains information on the a species including the category, name and conservation status. The columns are:\n",
    " - category (category of taxonomy of the species)\n",
    " - scientific_name (name of each species)\n",
    " - common_names (common names for each species)\n",
    " - conservation_status (conservation status for the species)"
   ]
  },
  {
   "cell_type": "code",
   "execution_count": 183,
   "metadata": {},
   "outputs": [
    {
     "data": {
      "text/html": [
       "<div>\n",
       "<style scoped>\n",
       "    .dataframe tbody tr th:only-of-type {\n",
       "        vertical-align: middle;\n",
       "    }\n",
       "\n",
       "    .dataframe tbody tr th {\n",
       "        vertical-align: top;\n",
       "    }\n",
       "\n",
       "    .dataframe thead th {\n",
       "        text-align: right;\n",
       "    }\n",
       "</style>\n",
       "<table border=\"1\" class=\"dataframe\">\n",
       "  <thead>\n",
       "    <tr style=\"text-align: right;\">\n",
       "      <th></th>\n",
       "      <th>category</th>\n",
       "      <th>scientific_name</th>\n",
       "      <th>common_names</th>\n",
       "      <th>conservation_status</th>\n",
       "    </tr>\n",
       "  </thead>\n",
       "  <tbody>\n",
       "    <tr>\n",
       "      <th>0</th>\n",
       "      <td>Mammal</td>\n",
       "      <td>Clethrionomys gapperi gapperi</td>\n",
       "      <td>Gapper's Red-Backed Vole</td>\n",
       "      <td>NaN</td>\n",
       "    </tr>\n",
       "    <tr>\n",
       "      <th>1</th>\n",
       "      <td>Mammal</td>\n",
       "      <td>Bos bison</td>\n",
       "      <td>American Bison, Bison</td>\n",
       "      <td>NaN</td>\n",
       "    </tr>\n",
       "    <tr>\n",
       "      <th>2</th>\n",
       "      <td>Mammal</td>\n",
       "      <td>Bos taurus</td>\n",
       "      <td>Aurochs, Aurochs, Domestic Cattle (Feral), Dom...</td>\n",
       "      <td>NaN</td>\n",
       "    </tr>\n",
       "    <tr>\n",
       "      <th>3</th>\n",
       "      <td>Mammal</td>\n",
       "      <td>Ovis aries</td>\n",
       "      <td>Domestic Sheep, Mouflon, Red Sheep, Sheep (Feral)</td>\n",
       "      <td>NaN</td>\n",
       "    </tr>\n",
       "    <tr>\n",
       "      <th>4</th>\n",
       "      <td>Mammal</td>\n",
       "      <td>Cervus elaphus</td>\n",
       "      <td>Wapiti Or Elk</td>\n",
       "      <td>NaN</td>\n",
       "    </tr>\n",
       "  </tbody>\n",
       "</table>\n",
       "</div>"
      ],
      "text/plain": [
       "  category                scientific_name  \\\n",
       "0   Mammal  Clethrionomys gapperi gapperi   \n",
       "1   Mammal                      Bos bison   \n",
       "2   Mammal                     Bos taurus   \n",
       "3   Mammal                     Ovis aries   \n",
       "4   Mammal                 Cervus elaphus   \n",
       "\n",
       "                                        common_names conservation_status  \n",
       "0                           Gapper's Red-Backed Vole                 NaN  \n",
       "1                              American Bison, Bison                 NaN  \n",
       "2  Aurochs, Aurochs, Domestic Cattle (Feral), Dom...                 NaN  \n",
       "3  Domestic Sheep, Mouflon, Red Sheep, Sheep (Feral)                 NaN  \n",
       "4                                      Wapiti Or Elk                 NaN  "
      ]
     },
     "execution_count": 183,
     "metadata": {},
     "output_type": "execute_result"
    }
   ],
   "source": [
    "# load and view species data\n",
    "species = pd.read_csv('species_info.csv')\n",
    "species.head()"
   ]
  },
  {
   "cell_type": "markdown",
   "metadata": {},
   "source": [
    "### Data exploration \n",
    "This section will look into the data in depth. It will check how much data there is, any missing values and calculate some summary statistics. Firstly, the observations data will be examined."
   ]
  },
  {
   "cell_type": "code",
   "execution_count": 17,
   "metadata": {},
   "outputs": [
    {
     "name": "stdout",
     "output_type": "stream",
     "text": [
      "<class 'pandas.core.frame.DataFrame'>\n",
      "RangeIndex: 23296 entries, 0 to 23295\n",
      "Data columns (total 3 columns):\n",
      " #   Column           Non-Null Count  Dtype \n",
      "---  ------           --------------  ----- \n",
      " 0   scientific_name  23296 non-null  object\n",
      " 1   park_name        23296 non-null  object\n",
      " 2   observations     23296 non-null  int64 \n",
      "dtypes: int64(1), object(2)\n",
      "memory usage: 546.1+ KB\n"
     ]
    }
   ],
   "source": [
    "# check the observations data for rows, columns and any null values\n",
    "observations.info()"
   ]
  },
  {
   "cell_type": "markdown",
   "metadata": {},
   "source": [
    "There are 23196 rows, 3 columns and no missing values for the observations data. "
   ]
  },
  {
   "cell_type": "code",
   "execution_count": 21,
   "metadata": {},
   "outputs": [
    {
     "name": "stdout",
     "output_type": "stream",
     "text": [
      "Number of unique parks: 4\n",
      "Park names: ['Great Smoky Mountains National Park' 'Yosemite National Park'\n",
      " 'Bryce National Park' 'Yellowstone National Park']\n",
      "Great Smoky Mountains National Park    5824\n",
      "Yosemite National Park                 5824\n",
      "Bryce National Park                    5824\n",
      "Yellowstone National Park              5824\n",
      "Name: park_name, dtype: int64\n"
     ]
    }
   ],
   "source": [
    "# check the different parks\n",
    "print('Number of unique parks: ' + str(observations.park_name.nunique()))\n",
    "print('Park names: ' + str(observations.park_name.unique()))\n",
    "print(observations.park_name.value_counts())"
   ]
  },
  {
   "cell_type": "markdown",
   "metadata": {},
   "source": [
    "There are 4 different parks included in the dataset and each park has 5,824 different species observations recorded."
   ]
  },
  {
   "cell_type": "code",
   "execution_count": 23,
   "metadata": {},
   "outputs": [
    {
     "name": "stdout",
     "output_type": "stream",
     "text": [
      "Number of unique species: 5541\n"
     ]
    }
   ],
   "source": [
    "# count the species observed\n",
    "print('Number of unique species: ' + str(observations.scientific_name.nunique()))"
   ]
  },
  {
   "cell_type": "markdown",
   "metadata": {},
   "source": [
    "There are 5,541 unique species scientific names in our observations data. This means that there are multiple rows containing the same speicies."
   ]
  },
  {
   "cell_type": "code",
   "execution_count": 24,
   "metadata": {},
   "outputs": [
    {
     "name": "stdout",
     "output_type": "stream",
     "text": [
      "Number of observations: 3314739\n",
      "count    23296.000000\n",
      "mean       142.287904\n",
      "std         69.890532\n",
      "min          9.000000\n",
      "25%         86.000000\n",
      "50%        124.000000\n",
      "75%        195.000000\n",
      "max        321.000000\n",
      "Name: observations, dtype: float64\n"
     ]
    }
   ],
   "source": [
    "# count the number of observations that have been recorded and see the summary stats\n",
    "print('Number of observations: ' + str(observations.observations.sum()))\n",
    "print(observations.observations.describe())"
   ]
  },
  {
   "cell_type": "markdown",
   "metadata": {},
   "source": [
    "There have been 3,314,739 observations in total over the past 7 days. The minimum number of observations is 9, the maximum is 321 and the mean is 142. "
   ]
  },
  {
   "cell_type": "markdown",
   "metadata": {},
   "source": [
    "Next, the species data will be looked at more indepth."
   ]
  },
  {
   "cell_type": "code",
   "execution_count": 26,
   "metadata": {},
   "outputs": [
    {
     "name": "stdout",
     "output_type": "stream",
     "text": [
      "<class 'pandas.core.frame.DataFrame'>\n",
      "RangeIndex: 5824 entries, 0 to 5823\n",
      "Data columns (total 4 columns):\n",
      " #   Column               Non-Null Count  Dtype \n",
      "---  ------               --------------  ----- \n",
      " 0   category             5824 non-null   object\n",
      " 1   scientific_name      5824 non-null   object\n",
      " 2   common_names         5824 non-null   object\n",
      " 3   conservation_status  191 non-null    object\n",
      "dtypes: object(4)\n",
      "memory usage: 182.1+ KB\n"
     ]
    }
   ],
   "source": [
    "# check the species data for rows, columns and missing data\n",
    "species.info()"
   ]
  },
  {
   "cell_type": "markdown",
   "metadata": {},
   "source": [
    "There are 5824 rows and 4 columns. There is no missing data from category, scientific_name and common_names columns but there are values missing from the conservation_status. "
   ]
  },
  {
   "cell_type": "code",
   "execution_count": 27,
   "metadata": {},
   "outputs": [
    {
     "name": "stdout",
     "output_type": "stream",
     "text": [
      "Number of unique categories: 7\n",
      "Unique categories: ['Mammal' 'Bird' 'Reptile' 'Amphibian' 'Fish' 'Vascular Plant'\n",
      " 'Nonvascular Plant']\n",
      "Vascular Plant       4470\n",
      "Bird                  521\n",
      "Nonvascular Plant     333\n",
      "Mammal                214\n",
      "Fish                  127\n",
      "Amphibian              80\n",
      "Reptile                79\n",
      "Name: category, dtype: int64\n"
     ]
    }
   ],
   "source": [
    "# check the different categories and their counts\n",
    "print('Number of unique categories: ' + str(species.category.nunique()))\n",
    "print('Unique categories: ' + str(species.category.unique()))\n",
    "print(species.category.value_counts())"
   ]
  },
  {
   "cell_type": "markdown",
   "metadata": {},
   "source": [
    "There are 7 different categories recorded in our species dataset. Vascular plants contains the most species at 4,470 while Reptile contains the least at 79."
   ]
  },
  {
   "cell_type": "code",
   "execution_count": 28,
   "metadata": {},
   "outputs": [
    {
     "name": "stdout",
     "output_type": "stream",
     "text": [
      "Number of unique species: 5541\n"
     ]
    }
   ],
   "source": [
    "# check the different species\n",
    "print('Number of unique species: ' + str(species.scientific_name.nunique()))"
   ]
  },
  {
   "cell_type": "markdown",
   "metadata": {},
   "source": [
    "There are 5,541 different species in our dataset."
   ]
  },
  {
   "cell_type": "code",
   "execution_count": 73,
   "metadata": {},
   "outputs": [
    {
     "data": {
      "text/plain": [
       "False    5824\n",
       "dtype: int64"
      ]
     },
     "execution_count": 73,
     "metadata": {},
     "output_type": "execute_result"
    }
   ],
   "source": [
    "species.duplicated().value_counts()"
   ]
  },
  {
   "cell_type": "markdown",
   "metadata": {},
   "source": [
    "There are no duplicated rows of data. This is a result of having multiple entries for some species but with varying conservation status and / or common names. This issue arises throughout the data."
   ]
  },
  {
   "cell_type": "code",
   "execution_count": 29,
   "metadata": {},
   "outputs": [
    {
     "name": "stdout",
     "output_type": "stream",
     "text": [
      "Number of conservation statuses: 4\n",
      "Conservation statuses: [nan 'Species of Concern' 'Endangered' 'Threatened' 'In Recovery']\n",
      "Species of Concern    161\n",
      "Endangered             16\n",
      "Threatened             10\n",
      "In Recovery             4\n",
      "Name: conservation_status, dtype: int64\n"
     ]
    }
   ],
   "source": [
    "# different conservation statuses\n",
    "print('Number of conservation statuses: ' + str(species.conservation_status.nunique()))\n",
    "print('Conservation statuses: ' + str(species.conservation_status.unique()))\n",
    "print(species.conservation_status.value_counts())"
   ]
  },
  {
   "cell_type": "markdown",
   "metadata": {},
   "source": [
    "There are 4 different conservation statuses. NaN has been used in instances where the species are not on the conservation list. There are 161 species that are of concern and only 4 in recovery."
   ]
  },
  {
   "cell_type": "markdown",
   "metadata": {},
   "source": [
    "## Anaylsis\n",
    "In this section the analysis will be performed to answer each question that has been defined in the goals. Analysis will use descriptive statistics and visualisations to infer any relationships between the data. The findings will also be evaluated in this section."
   ]
  },
  {
   "cell_type": "markdown",
   "metadata": {},
   "source": [
    "First the conservation status column needs to be cleaned to make the data easier to work with.\n",
    "As NaN represents species that are not at risk of being endangered these values can be changed to something more representative. In this case all NaN values can be converted to 'Not At Risk'."
   ]
  },
  {
   "cell_type": "code",
   "execution_count": 184,
   "metadata": {},
   "outputs": [
    {
     "data": {
      "text/plain": [
       "Not At Risk           5633\n",
       "Species of Concern     161\n",
       "Endangered              16\n",
       "Threatened              10\n",
       "In Recovery              4\n",
       "Name: conservation_status, dtype: int64"
      ]
     },
     "execution_count": 184,
     "metadata": {},
     "output_type": "execute_result"
    }
   ],
   "source": [
    "# convert nan values to 'Not At Risk'\n",
    "species.conservation_status.fillna('Not At Risk', inplace=True)\n",
    "species.conservation_status.value_counts()"
   ]
  },
  {
   "cell_type": "markdown",
   "metadata": {},
   "source": [
    "There are now 5 different statuses of conservation which can be defined as the following: \n",
    "- Not At Risk (Species that do not require any intervention)\n",
    "- Species of Concern (Species that are declining but haven't required intervention yet)\n",
    "- Threatened (Species that could become endangered very soon)\n",
    "- Endangered (Species that are at risk of extinction)\n",
    "- In Recovery (Previously Endangered species that are no longer at risk of extinction)"
   ]
  },
  {
   "cell_type": "markdown",
   "metadata": {},
   "source": [
    "#### Conservation distribution\n",
    "For species that are in need of conservation which categories do they fall under?"
   ]
  },
  {
   "cell_type": "code",
   "execution_count": 60,
   "metadata": {},
   "outputs": [
    {
     "data": {
      "text/html": [
       "<div>\n",
       "<style scoped>\n",
       "    .dataframe tbody tr th:only-of-type {\n",
       "        vertical-align: middle;\n",
       "    }\n",
       "\n",
       "    .dataframe tbody tr th {\n",
       "        vertical-align: top;\n",
       "    }\n",
       "\n",
       "    .dataframe thead th {\n",
       "        text-align: right;\n",
       "    }\n",
       "</style>\n",
       "<table border=\"1\" class=\"dataframe\">\n",
       "  <thead>\n",
       "    <tr style=\"text-align: right;\">\n",
       "      <th>category</th>\n",
       "      <th>Amphibian</th>\n",
       "      <th>Bird</th>\n",
       "      <th>Fish</th>\n",
       "      <th>Mammal</th>\n",
       "      <th>Nonvascular Plant</th>\n",
       "      <th>Reptile</th>\n",
       "      <th>Vascular Plant</th>\n",
       "    </tr>\n",
       "    <tr>\n",
       "      <th>conservation_status</th>\n",
       "      <th></th>\n",
       "      <th></th>\n",
       "      <th></th>\n",
       "      <th></th>\n",
       "      <th></th>\n",
       "      <th></th>\n",
       "      <th></th>\n",
       "    </tr>\n",
       "  </thead>\n",
       "  <tbody>\n",
       "    <tr>\n",
       "      <th>Endangered</th>\n",
       "      <td>1.0</td>\n",
       "      <td>4.0</td>\n",
       "      <td>3.0</td>\n",
       "      <td>7.0</td>\n",
       "      <td>NaN</td>\n",
       "      <td>NaN</td>\n",
       "      <td>1.0</td>\n",
       "    </tr>\n",
       "    <tr>\n",
       "      <th>In Recovery</th>\n",
       "      <td>NaN</td>\n",
       "      <td>3.0</td>\n",
       "      <td>NaN</td>\n",
       "      <td>1.0</td>\n",
       "      <td>NaN</td>\n",
       "      <td>NaN</td>\n",
       "      <td>NaN</td>\n",
       "    </tr>\n",
       "    <tr>\n",
       "      <th>Species of Concern</th>\n",
       "      <td>4.0</td>\n",
       "      <td>72.0</td>\n",
       "      <td>4.0</td>\n",
       "      <td>28.0</td>\n",
       "      <td>5.0</td>\n",
       "      <td>5.0</td>\n",
       "      <td>43.0</td>\n",
       "    </tr>\n",
       "    <tr>\n",
       "      <th>Threatened</th>\n",
       "      <td>2.0</td>\n",
       "      <td>NaN</td>\n",
       "      <td>4.0</td>\n",
       "      <td>2.0</td>\n",
       "      <td>NaN</td>\n",
       "      <td>NaN</td>\n",
       "      <td>2.0</td>\n",
       "    </tr>\n",
       "  </tbody>\n",
       "</table>\n",
       "</div>"
      ],
      "text/plain": [
       "category             Amphibian  Bird  Fish  Mammal  Nonvascular Plant  \\\n",
       "conservation_status                                                     \n",
       "Endangered                 1.0   4.0   3.0     7.0                NaN   \n",
       "In Recovery                NaN   3.0   NaN     1.0                NaN   \n",
       "Species of Concern         4.0  72.0   4.0    28.0                5.0   \n",
       "Threatened                 2.0   NaN   4.0     2.0                NaN   \n",
       "\n",
       "category             Reptile  Vascular Plant  \n",
       "conservation_status                           \n",
       "Endangered               NaN             1.0  \n",
       "In Recovery              NaN             NaN  \n",
       "Species of Concern       5.0            43.0  \n",
       "Threatened               NaN             2.0  "
      ]
     },
     "execution_count": 60,
     "metadata": {},
     "output_type": "execute_result"
    }
   ],
   "source": [
    "# find the count of each conservation status for each category\n",
    "species[species.conservation_status != 'Not At Risk'].groupby(['conservation_status','category'])['scientific_name'].count().unstack()"
   ]
  },
  {
   "cell_type": "markdown",
   "metadata": {},
   "source": [
    "Birds have the highest number of species that are of concern at 72 with vascular plants having the second most at 53. Both fish and amphibians have the least at 4. Birds also have the highest numbers In Recovery at 3 which could mean that the interventions applied to birds are effective. Mammals have the highest number of endangered species at 7 yet nonvascular plants and reptiles have none."
   ]
  },
  {
   "cell_type": "markdown",
   "metadata": {},
   "source": [
    "Plot of the distributions of conservation status for each category. (Excluding Not at Risk as this group is the majority and extremely large)"
   ]
  },
  {
   "cell_type": "code",
   "execution_count": 71,
   "metadata": {},
   "outputs": [
    {
     "data": {
      "image/png": "[encoded data removed]",
      "text/plain": [
       "<Figure size 5760x720 with 4 Axes>"
      ]
     },
     "metadata": {
      "needs_background": "light"
     },
     "output_type": "display_data"
    },
    {
     "data": {
      "text/plain": [
       "<Figure size 432x288 with 0 Axes>"
      ]
     },
     "metadata": {},
     "output_type": "display_data"
    }
   ],
   "source": [
    "sns.catplot(data=species[species.conservation_status != 'Not At Risk'], col= 'conservation_status', x='category', kind = 'count',height=10, aspect=2)\n",
    "plt.show()\n",
    "plt.clf()"
   ]
  },
  {
   "cell_type": "markdown",
   "metadata": {},
   "source": [
    "From the figures we can see clearly that the largest numbers reside in the 'Species of Concern' status. For each status we can see clearly the distribution between categories."
   ]
  },
  {
   "cell_type": "markdown",
   "metadata": {},
   "source": [
    "#### Conservation status and National Park\n",
    "Does a particular National Park contain more species that require intervention? The numbers of each conservation status will need to be examined to determine if any National Parks contain more endangered species."
   ]
  },
  {
   "cell_type": "code",
   "execution_count": 157,
   "metadata": {},
   "outputs": [],
   "source": [
    "# create dataframe for species that are at risk\n",
    "species_at_risk = species[species.conservation_status != 'Not At Risk']"
   ]
  },
  {
   "cell_type": "code",
   "execution_count": 137,
   "metadata": {},
   "outputs": [],
   "source": [
    "# create a dataframe for each seperate parks data\n",
    "GSM = observations[observations.park_name == 'Great Smoky Mountains National Park']\n",
    "Yosemite = observations[observations.park_name == 'Yosemite National Park']\n",
    "Bryce = observations[observations.park_name == 'Bryce National Park']\n",
    "Yellowstone = observations[observations.park_name == 'Yellowstone National Park']"
   ]
  },
  {
   "cell_type": "code",
   "execution_count": 150,
   "metadata": {},
   "outputs": [],
   "source": [
    "# generate a list of the conservation status for GSM\n",
    "GSM_status = []\n",
    "for i in range(len(GSM)):\n",
    "    for j in range(len(species_at_risk)):\n",
    "        if GSM.iloc[i,0] == species_at_risk.iloc[j,1]:\n",
    "            GSM_status.append(species_at_risk.iloc[j,3])"
   ]
  },
  {
   "cell_type": "code",
   "execution_count": 152,
   "metadata": {},
   "outputs": [],
   "source": [
    "# generate a list of the conservation status for Yosemite\n",
    "Yosemite_status = []\n",
    "for i in range(len(Yosemite)):\n",
    "    for j in range(len(species_at_risk)):\n",
    "        if Yosemite.iloc[i,0] == species_at_risk.iloc[j,1]:\n",
    "            Yosemite_status.append(species_at_risk.iloc[j,3])"
   ]
  },
  {
   "cell_type": "code",
   "execution_count": 153,
   "metadata": {},
   "outputs": [],
   "source": [
    "# generate a list of the conservation status for Bryce\n",
    "Bryce_status = []\n",
    "for i in range(len(Bryce)):\n",
    "    for j in range(len(species_at_risk)):\n",
    "        if Bryce.iloc[i,0] == species_at_risk.iloc[j,1]:\n",
    "            Bryce_status.append(species_at_risk.iloc[j,3])"
   ]
  },
  {
   "cell_type": "code",
   "execution_count": 154,
   "metadata": {},
   "outputs": [],
   "source": [
    "# generate a list of the conservation status for Yellowstone\n",
    "Yellowstone_status = []\n",
    "for i in range(len(Yellowstone)):\n",
    "    for j in range(len(species_at_risk)):\n",
    "        if Yellowstone.iloc[i,0] == species_at_risk.iloc[j,1]:\n",
    "            Yellowstone_status.append(species_at_risk.iloc[j,3])"
   ]
  },
  {
   "cell_type": "code",
   "execution_count": 163,
   "metadata": {},
   "outputs": [
    {
     "name": "stderr",
     "output_type": "stream",
     "text": [
      "/Users/lailahowe/opt/anaconda3/lib/python3.9/site-packages/seaborn/_decorators.py:36: FutureWarning: Pass the following variable as a keyword arg: x. From version 0.12, the only valid positional argument will be `data`, and passing other arguments without an explicit keyword will result in an error or misinterpretation.\n",
      "  warnings.warn(\n"
     ]
    },
    {
     "data": {
      "image/png": "[encoded data removed]",
      "text/plain": [
       "<Figure size 432x288 with 1 Axes>"
      ]
     },
     "metadata": {
      "needs_background": "light"
     },
     "output_type": "display_data"
    },
    {
     "name": "stderr",
     "output_type": "stream",
     "text": [
      "/Users/lailahowe/opt/anaconda3/lib/python3.9/site-packages/seaborn/_decorators.py:36: FutureWarning: Pass the following variable as a keyword arg: x. From version 0.12, the only valid positional argument will be `data`, and passing other arguments without an explicit keyword will result in an error or misinterpretation.\n",
      "  warnings.warn(\n"
     ]
    },
    {
     "data": {
      "image/png": "[encoded data removed]",
      "text/plain": [
       "<Figure size 432x288 with 1 Axes>"
      ]
     },
     "metadata": {
      "needs_background": "light"
     },
     "output_type": "display_data"
    },
    {
     "name": "stderr",
     "output_type": "stream",
     "text": [
      "/Users/lailahowe/opt/anaconda3/lib/python3.9/site-packages/seaborn/_decorators.py:36: FutureWarning: Pass the following variable as a keyword arg: x. From version 0.12, the only valid positional argument will be `data`, and passing other arguments without an explicit keyword will result in an error or misinterpretation.\n",
      "  warnings.warn(\n"
     ]
    },
    {
     "data": {
      "image/png": "[encoded data removed]",
      "text/plain": [
       "<Figure size 432x288 with 1 Axes>"
      ]
     },
     "metadata": {
      "needs_background": "light"
     },
     "output_type": "display_data"
    },
    {
     "name": "stderr",
     "output_type": "stream",
     "text": [
      "/Users/lailahowe/opt/anaconda3/lib/python3.9/site-packages/seaborn/_decorators.py:36: FutureWarning: Pass the following variable as a keyword arg: x. From version 0.12, the only valid positional argument will be `data`, and passing other arguments without an explicit keyword will result in an error or misinterpretation.\n",
      "  warnings.warn(\n"
     ]
    },
    {
     "data": {
      "image/png": "[encoded data removed]",
      "text/plain": [
       "<Figure size 432x288 with 1 Axes>"
      ]
     },
     "metadata": {
      "needs_background": "light"
     },
     "output_type": "display_data"
    },
    {
     "data": {
      "text/plain": [
       "<Figure size 432x288 with 0 Axes>"
      ]
     },
     "metadata": {},
     "output_type": "display_data"
    }
   ],
   "source": [
    "# plot the count of each status\n",
    "sns.countplot(GSM_status)\n",
    "plt.title('Great Smoky Mountains')\n",
    "plt.show()\n",
    "plt.clf()\n",
    "sns.countplot(Bryce_status)\n",
    "plt.title('Bryce')\n",
    "plt.show()\n",
    "plt.clf()\n",
    "sns.countplot(Yosemite_status)\n",
    "plt.title('Yosemite')\n",
    "plt.show()\n",
    "plt.clf()\n",
    "sns.countplot(Yellowstone_status)\n",
    "plt.title('Yellowstone')\n",
    "plt.show()\n",
    "plt.clf()"
   ]
  },
  {
   "cell_type": "code",
   "execution_count": 162,
   "metadata": {},
   "outputs": [
    {
     "data": {
      "text/plain": [
       "220"
      ]
     },
     "execution_count": 162,
     "metadata": {},
     "output_type": "execute_result"
    }
   ],
   "source": [
    "len(GSM_status)"
   ]
  },
  {
   "cell_type": "markdown",
   "metadata": {},
   "source": [
    "As was suspected because the observation data has been simulated from the species data the exact same numbers for conservation status are present for each National Park. This would not be expected in real world data but this cannot be avoided with the simulated data. There is also the problem that there are several entries for each species with a potentially different conservation status. This has given an inflated number of species that are in need of intervation (220 instead of the original 191). "
   ]
  },
  {
   "cell_type": "markdown",
   "metadata": {},
   "source": [
    "#### Categories relationship with conservation status\n",
    "Are certain categories of species more likely to become endangered? To answer this question the percentages of 'At Risk' to 'Not At Risk' need to be compared. To do this an additional column will be added to define whether a species is at risk or not."
   ]
  },
  {
   "cell_type": "code",
   "execution_count": 185,
   "metadata": {},
   "outputs": [
    {
     "data": {
      "text/html": [
       "<div>\n",
       "<style scoped>\n",
       "    .dataframe tbody tr th:only-of-type {\n",
       "        vertical-align: middle;\n",
       "    }\n",
       "\n",
       "    .dataframe tbody tr th {\n",
       "        vertical-align: top;\n",
       "    }\n",
       "\n",
       "    .dataframe thead th {\n",
       "        text-align: right;\n",
       "    }\n",
       "</style>\n",
       "<table border=\"1\" class=\"dataframe\">\n",
       "  <thead>\n",
       "    <tr style=\"text-align: right;\">\n",
       "      <th></th>\n",
       "      <th>category</th>\n",
       "      <th>scientific_name</th>\n",
       "      <th>common_names</th>\n",
       "      <th>conservation_status</th>\n",
       "      <th>risk</th>\n",
       "    </tr>\n",
       "  </thead>\n",
       "  <tbody>\n",
       "    <tr>\n",
       "      <th>0</th>\n",
       "      <td>Mammal</td>\n",
       "      <td>Clethrionomys gapperi gapperi</td>\n",
       "      <td>Gapper's Red-Backed Vole</td>\n",
       "      <td>Not At Risk</td>\n",
       "      <td>False</td>\n",
       "    </tr>\n",
       "    <tr>\n",
       "      <th>1</th>\n",
       "      <td>Mammal</td>\n",
       "      <td>Bos bison</td>\n",
       "      <td>American Bison, Bison</td>\n",
       "      <td>Not At Risk</td>\n",
       "      <td>False</td>\n",
       "    </tr>\n",
       "    <tr>\n",
       "      <th>2</th>\n",
       "      <td>Mammal</td>\n",
       "      <td>Bos taurus</td>\n",
       "      <td>Aurochs, Aurochs, Domestic Cattle (Feral), Dom...</td>\n",
       "      <td>Not At Risk</td>\n",
       "      <td>False</td>\n",
       "    </tr>\n",
       "    <tr>\n",
       "      <th>3</th>\n",
       "      <td>Mammal</td>\n",
       "      <td>Ovis aries</td>\n",
       "      <td>Domestic Sheep, Mouflon, Red Sheep, Sheep (Feral)</td>\n",
       "      <td>Not At Risk</td>\n",
       "      <td>False</td>\n",
       "    </tr>\n",
       "    <tr>\n",
       "      <th>4</th>\n",
       "      <td>Mammal</td>\n",
       "      <td>Cervus elaphus</td>\n",
       "      <td>Wapiti Or Elk</td>\n",
       "      <td>Not At Risk</td>\n",
       "      <td>False</td>\n",
       "    </tr>\n",
       "  </tbody>\n",
       "</table>\n",
       "</div>"
      ],
      "text/plain": [
       "  category                scientific_name  \\\n",
       "0   Mammal  Clethrionomys gapperi gapperi   \n",
       "1   Mammal                      Bos bison   \n",
       "2   Mammal                     Bos taurus   \n",
       "3   Mammal                     Ovis aries   \n",
       "4   Mammal                 Cervus elaphus   \n",
       "\n",
       "                                        common_names conservation_status  \\\n",
       "0                           Gapper's Red-Backed Vole         Not At Risk   \n",
       "1                              American Bison, Bison         Not At Risk   \n",
       "2  Aurochs, Aurochs, Domestic Cattle (Feral), Dom...         Not At Risk   \n",
       "3  Domestic Sheep, Mouflon, Red Sheep, Sheep (Feral)         Not At Risk   \n",
       "4                                      Wapiti Or Elk         Not At Risk   \n",
       "\n",
       "    risk  \n",
       "0  False  \n",
       "1  False  \n",
       "2  False  \n",
       "3  False  \n",
       "4  False  "
      ]
     },
     "execution_count": 185,
     "metadata": {},
     "output_type": "execute_result"
    }
   ],
   "source": [
    "# create bool for if species is at risk. False is not at risk True is at risk.\n",
    "species['risk'] = species.conservation_status != 'Not At Risk'\n",
    "species.head()"
   ]
  },
  {
   "cell_type": "code",
   "execution_count": 195,
   "metadata": {},
   "outputs": [
    {
     "data": {
      "text/html": [
       "<div>\n",
       "<style scoped>\n",
       "    .dataframe tbody tr th:only-of-type {\n",
       "        vertical-align: middle;\n",
       "    }\n",
       "\n",
       "    .dataframe tbody tr th {\n",
       "        vertical-align: top;\n",
       "    }\n",
       "\n",
       "    .dataframe thead th {\n",
       "        text-align: right;\n",
       "    }\n",
       "</style>\n",
       "<table border=\"1\" class=\"dataframe\">\n",
       "  <thead>\n",
       "    <tr style=\"text-align: right;\">\n",
       "      <th></th>\n",
       "      <th>category</th>\n",
       "      <th>not_at_risk</th>\n",
       "      <th>at_risk</th>\n",
       "    </tr>\n",
       "  </thead>\n",
       "  <tbody>\n",
       "    <tr>\n",
       "      <th>0</th>\n",
       "      <td>Amphibian</td>\n",
       "      <td>73</td>\n",
       "      <td>7</td>\n",
       "    </tr>\n",
       "    <tr>\n",
       "      <th>1</th>\n",
       "      <td>Bird</td>\n",
       "      <td>442</td>\n",
       "      <td>79</td>\n",
       "    </tr>\n",
       "    <tr>\n",
       "      <th>2</th>\n",
       "      <td>Fish</td>\n",
       "      <td>116</td>\n",
       "      <td>11</td>\n",
       "    </tr>\n",
       "    <tr>\n",
       "      <th>3</th>\n",
       "      <td>Mammal</td>\n",
       "      <td>176</td>\n",
       "      <td>38</td>\n",
       "    </tr>\n",
       "    <tr>\n",
       "      <th>4</th>\n",
       "      <td>Nonvascular Plant</td>\n",
       "      <td>328</td>\n",
       "      <td>5</td>\n",
       "    </tr>\n",
       "    <tr>\n",
       "      <th>5</th>\n",
       "      <td>Reptile</td>\n",
       "      <td>74</td>\n",
       "      <td>5</td>\n",
       "    </tr>\n",
       "    <tr>\n",
       "      <th>6</th>\n",
       "      <td>Vascular Plant</td>\n",
       "      <td>4424</td>\n",
       "      <td>46</td>\n",
       "    </tr>\n",
       "  </tbody>\n",
       "</table>\n",
       "</div>"
      ],
      "text/plain": [
       "            category  not_at_risk  at_risk\n",
       "0          Amphibian           73        7\n",
       "1               Bird          442       79\n",
       "2               Fish          116       11\n",
       "3             Mammal          176       38\n",
       "4  Nonvascular Plant          328        5\n",
       "5            Reptile           74        5\n",
       "6     Vascular Plant         4424       46"
      ]
     },
     "execution_count": 195,
     "metadata": {},
     "output_type": "execute_result"
    }
   ],
   "source": [
    "# group by category and then risk\n",
    "risk_count = species.groupby(['category','risk'])['scientific_name'].count().unstack().reset_index()\n",
    "risk_count.columns = ['category','not_at_risk','at_risk']\n",
    "risk_count"
   ]
  },
  {
   "cell_type": "markdown",
   "metadata": {},
   "source": [
    "The table above gives the raw numbers of how many species are at risk in each category. It is clear in categories such as vascular plants and nonvascular plants that more species are not at risk than at risk. However, it is hard to compare the raw values against each other. This will now be turned into a percentage. "
   ]
  },
  {
   "cell_type": "code",
   "execution_count": 197,
   "metadata": {
    "scrolled": true
   },
   "outputs": [
    {
     "data": {
      "text/html": [
       "<div>\n",
       "<style scoped>\n",
       "    .dataframe tbody tr th:only-of-type {\n",
       "        vertical-align: middle;\n",
       "    }\n",
       "\n",
       "    .dataframe tbody tr th {\n",
       "        vertical-align: top;\n",
       "    }\n",
       "\n",
       "    .dataframe thead th {\n",
       "        text-align: right;\n",
       "    }\n",
       "</style>\n",
       "<table border=\"1\" class=\"dataframe\">\n",
       "  <thead>\n",
       "    <tr style=\"text-align: right;\">\n",
       "      <th></th>\n",
       "      <th>category</th>\n",
       "      <th>not_at_risk</th>\n",
       "      <th>at_risk</th>\n",
       "      <th>risk_percent</th>\n",
       "    </tr>\n",
       "  </thead>\n",
       "  <tbody>\n",
       "    <tr>\n",
       "      <th>0</th>\n",
       "      <td>Amphibian</td>\n",
       "      <td>73</td>\n",
       "      <td>7</td>\n",
       "      <td>8.750000</td>\n",
       "    </tr>\n",
       "    <tr>\n",
       "      <th>1</th>\n",
       "      <td>Bird</td>\n",
       "      <td>442</td>\n",
       "      <td>79</td>\n",
       "      <td>15.163148</td>\n",
       "    </tr>\n",
       "    <tr>\n",
       "      <th>2</th>\n",
       "      <td>Fish</td>\n",
       "      <td>116</td>\n",
       "      <td>11</td>\n",
       "      <td>8.661417</td>\n",
       "    </tr>\n",
       "    <tr>\n",
       "      <th>3</th>\n",
       "      <td>Mammal</td>\n",
       "      <td>176</td>\n",
       "      <td>38</td>\n",
       "      <td>17.757009</td>\n",
       "    </tr>\n",
       "    <tr>\n",
       "      <th>4</th>\n",
       "      <td>Nonvascular Plant</td>\n",
       "      <td>328</td>\n",
       "      <td>5</td>\n",
       "      <td>1.501502</td>\n",
       "    </tr>\n",
       "    <tr>\n",
       "      <th>5</th>\n",
       "      <td>Reptile</td>\n",
       "      <td>74</td>\n",
       "      <td>5</td>\n",
       "      <td>6.329114</td>\n",
       "    </tr>\n",
       "    <tr>\n",
       "      <th>6</th>\n",
       "      <td>Vascular Plant</td>\n",
       "      <td>4424</td>\n",
       "      <td>46</td>\n",
       "      <td>1.029083</td>\n",
       "    </tr>\n",
       "  </tbody>\n",
       "</table>\n",
       "</div>"
      ],
      "text/plain": [
       "            category  not_at_risk  at_risk  risk_percent\n",
       "0          Amphibian           73        7      8.750000\n",
       "1               Bird          442       79     15.163148\n",
       "2               Fish          116       11      8.661417\n",
       "3             Mammal          176       38     17.757009\n",
       "4  Nonvascular Plant          328        5      1.501502\n",
       "5            Reptile           74        5      6.329114\n",
       "6     Vascular Plant         4424       46      1.029083"
      ]
     },
     "execution_count": 197,
     "metadata": {},
     "output_type": "execute_result"
    }
   ],
   "source": [
    "# create a new column containing the percentage of species at risk \n",
    "risk_count['risk_percent'] = (risk_count.at_risk / (risk_count.at_risk + risk_count.not_at_risk))*100\n",
    "risk_count"
   ]
  },
  {
   "cell_type": "markdown",
   "metadata": {},
   "source": [
    "Turning the values into a percentage now clearly shows that Mammals and Birds have the highest percentage of species at risk, 17.76% and 15.16% respectivley, whilst plants both vascular and nonvascular have only around 1%. "
   ]
  },
  {
   "cell_type": "markdown",
   "metadata": {},
   "source": [
    "#### Most prevalent species\n",
    "What is the distribution of sightings across the National Parks for the most prevelant species? For this analysis species will be summised into common name groupings such as 'Wolf' or 'Lizard'. "
   ]
  },
  {
   "cell_type": "code",
   "execution_count": 236,
   "metadata": {},
   "outputs": [
    {
     "data": {
      "text/plain": [
       "[[\"Gapper's\", 'Red-Backed', 'Vole'],\n",
       " ['American', 'Bison', '', 'Bison'],\n",
       " ['Aurochs',\n",
       "  '',\n",
       "  'Aurochs',\n",
       "  '',\n",
       "  'Domestic',\n",
       "  'Cattle',\n",
       "  '(Feral)',\n",
       "  '',\n",
       "  'Domesticated',\n",
       "  'Cattle'],\n",
       " ['Domestic',\n",
       "  'Sheep',\n",
       "  '',\n",
       "  'Mouflon',\n",
       "  '',\n",
       "  'Red',\n",
       "  'Sheep',\n",
       "  '',\n",
       "  'Sheep',\n",
       "  '(Feral)'],\n",
       " ['Wapiti', 'Or', 'Elk']]"
      ]
     },
     "execution_count": 236,
     "metadata": {},
     "output_type": "execute_result"
    }
   ],
   "source": [
    "# split the common names and store them as a list of lists\n",
    "split_names = []\n",
    "common_names = species.common_names.tolist()\n",
    "for names in common_names:\n",
    "    names = names.replace(',',' ')\n",
    "    split_names.append(names.split(' '))\n",
    "split_names[:5]"
   ]
  },
  {
   "cell_type": "code",
   "execution_count": 238,
   "metadata": {},
   "outputs": [
    {
     "data": {
      "text/plain": [
       "[[\"Gapper's\", 'Red-Backed', 'Vole'],\n",
       " ['American', 'Bison', ''],\n",
       " ['Aurochs', '', 'Domestic', 'Cattle', '(Feral)', 'Domesticated'],\n",
       " ['Domestic', 'Sheep', '', 'Mouflon', 'Red', '(Feral)'],\n",
       " ['Wapiti', 'Or', 'Elk']]"
      ]
     },
     "execution_count": 238,
     "metadata": {},
     "output_type": "execute_result"
    }
   ],
   "source": [
    "# remove duplications\n",
    "clean_names = []\n",
    "for name in split_names:\n",
    "    clean_names.append(list(dict.fromkeys(name)))\n",
    "clean_names[:5]"
   ]
  },
  {
   "cell_type": "code",
   "execution_count": 254,
   "metadata": {},
   "outputs": [
    {
     "data": {
      "text/html": [
       "<div>\n",
       "<style scoped>\n",
       "    .dataframe tbody tr th:only-of-type {\n",
       "        vertical-align: middle;\n",
       "    }\n",
       "\n",
       "    .dataframe tbody tr th {\n",
       "        vertical-align: top;\n",
       "    }\n",
       "\n",
       "    .dataframe thead th {\n",
       "        text-align: right;\n",
       "    }\n",
       "</style>\n",
       "<table border=\"1\" class=\"dataframe\">\n",
       "  <thead>\n",
       "    <tr style=\"text-align: right;\">\n",
       "      <th></th>\n",
       "      <th>Names</th>\n",
       "      <th>Count</th>\n",
       "    </tr>\n",
       "  </thead>\n",
       "  <tbody>\n",
       "    <tr>\n",
       "      <th>6488</th>\n",
       "      <td></td>\n",
       "      <td>2254</td>\n",
       "    </tr>\n",
       "    <tr>\n",
       "      <th>8149</th>\n",
       "      <td>Moss</td>\n",
       "      <td>285</td>\n",
       "    </tr>\n",
       "    <tr>\n",
       "      <th>5708</th>\n",
       "      <td>Sedge</td>\n",
       "      <td>227</td>\n",
       "    </tr>\n",
       "    <tr>\n",
       "      <th>2550</th>\n",
       "      <td>Common</td>\n",
       "      <td>185</td>\n",
       "    </tr>\n",
       "    <tr>\n",
       "      <th>17896</th>\n",
       "      <td>Mountain</td>\n",
       "      <td>147</td>\n",
       "    </tr>\n",
       "    <tr>\n",
       "      <th>17442</th>\n",
       "      <td>Grass</td>\n",
       "      <td>134</td>\n",
       "    </tr>\n",
       "    <tr>\n",
       "      <th>1212</th>\n",
       "      <td>Western</td>\n",
       "      <td>112</td>\n",
       "    </tr>\n",
       "    <tr>\n",
       "      <th>8561</th>\n",
       "      <td>American</td>\n",
       "      <td>106</td>\n",
       "    </tr>\n",
       "    <tr>\n",
       "      <th>9057</th>\n",
       "      <td>Northern</td>\n",
       "      <td>99</td>\n",
       "    </tr>\n",
       "    <tr>\n",
       "      <th>4666</th>\n",
       "      <td>White</td>\n",
       "      <td>95</td>\n",
       "    </tr>\n",
       "  </tbody>\n",
       "</table>\n",
       "</div>"
      ],
      "text/plain": [
       "          Names  Count\n",
       "6488              2254\n",
       "8149       Moss    285\n",
       "5708      Sedge    227\n",
       "2550     Common    185\n",
       "17896  Mountain    147\n",
       "17442     Grass    134\n",
       "1212    Western    112\n",
       "8561   American    106\n",
       "9057   Northern     99\n",
       "4666      White     95"
      ]
     },
     "execution_count": 254,
     "metadata": {},
     "output_type": "execute_result"
    }
   ],
   "source": [
    "# create a list from the list of lists\n",
    "list_names = []\n",
    "for names in clean_names:\n",
    "    for name in names:\n",
    "        list_names.append(name)\n",
    "# count how many times the names appear\n",
    "count = []\n",
    "for name in list_names:\n",
    "    counter = list_names.count(name)\n",
    "    count.append((name,counter))\n",
    "# remove duplicates counts\n",
    "count_names = []\n",
    "for item in count:\n",
    "    count_names.append(list(dict.fromkeys(item)))\n",
    "# create a dataframe from the list of names and counts\n",
    "df = pd.DataFrame(count_names,columns=['Names','Count'])\n",
    "df = df.sort_values(by='Count',ascending=False)\n",
    "df = df.drop_duplicates()\n",
    "df.head(10)"
   ]
  },
  {
   "cell_type": "markdown",
   "metadata": {},
   "source": [
    "From the table it is clear that 'Moss' is the most prevalent species appearing 285 times in the species data. This can be used to see the distribution of 'Moss' across the different parks. First all the 'Moss' species need to be selected from the species table."
   ]
  },
  {
   "cell_type": "code",
   "execution_count": 255,
   "metadata": {},
   "outputs": [
    {
     "data": {
      "text/html": [
       "<div>\n",
       "<style scoped>\n",
       "    .dataframe tbody tr th:only-of-type {\n",
       "        vertical-align: middle;\n",
       "    }\n",
       "\n",
       "    .dataframe tbody tr th {\n",
       "        vertical-align: top;\n",
       "    }\n",
       "\n",
       "    .dataframe thead th {\n",
       "        text-align: right;\n",
       "    }\n",
       "</style>\n",
       "<table border=\"1\" class=\"dataframe\">\n",
       "  <thead>\n",
       "    <tr style=\"text-align: right;\">\n",
       "      <th></th>\n",
       "      <th>category</th>\n",
       "      <th>scientific_name</th>\n",
       "      <th>common_names</th>\n",
       "      <th>conservation_status</th>\n",
       "      <th>risk</th>\n",
       "      <th>moss</th>\n",
       "    </tr>\n",
       "  </thead>\n",
       "  <tbody>\n",
       "    <tr>\n",
       "      <th>0</th>\n",
       "      <td>Mammal</td>\n",
       "      <td>Clethrionomys gapperi gapperi</td>\n",
       "      <td>Gapper's Red-Backed Vole</td>\n",
       "      <td>Not At Risk</td>\n",
       "      <td>False</td>\n",
       "      <td>False</td>\n",
       "    </tr>\n",
       "    <tr>\n",
       "      <th>1</th>\n",
       "      <td>Mammal</td>\n",
       "      <td>Bos bison</td>\n",
       "      <td>American Bison, Bison</td>\n",
       "      <td>Not At Risk</td>\n",
       "      <td>False</td>\n",
       "      <td>False</td>\n",
       "    </tr>\n",
       "    <tr>\n",
       "      <th>2</th>\n",
       "      <td>Mammal</td>\n",
       "      <td>Bos taurus</td>\n",
       "      <td>Aurochs, Aurochs, Domestic Cattle (Feral), Dom...</td>\n",
       "      <td>Not At Risk</td>\n",
       "      <td>False</td>\n",
       "      <td>False</td>\n",
       "    </tr>\n",
       "    <tr>\n",
       "      <th>3</th>\n",
       "      <td>Mammal</td>\n",
       "      <td>Ovis aries</td>\n",
       "      <td>Domestic Sheep, Mouflon, Red Sheep, Sheep (Feral)</td>\n",
       "      <td>Not At Risk</td>\n",
       "      <td>False</td>\n",
       "      <td>False</td>\n",
       "    </tr>\n",
       "    <tr>\n",
       "      <th>4</th>\n",
       "      <td>Mammal</td>\n",
       "      <td>Cervus elaphus</td>\n",
       "      <td>Wapiti Or Elk</td>\n",
       "      <td>Not At Risk</td>\n",
       "      <td>False</td>\n",
       "      <td>False</td>\n",
       "    </tr>\n",
       "  </tbody>\n",
       "</table>\n",
       "</div>"
      ],
      "text/plain": [
       "  category                scientific_name  \\\n",
       "0   Mammal  Clethrionomys gapperi gapperi   \n",
       "1   Mammal                      Bos bison   \n",
       "2   Mammal                     Bos taurus   \n",
       "3   Mammal                     Ovis aries   \n",
       "4   Mammal                 Cervus elaphus   \n",
       "\n",
       "                                        common_names conservation_status  \\\n",
       "0                           Gapper's Red-Backed Vole         Not At Risk   \n",
       "1                              American Bison, Bison         Not At Risk   \n",
       "2  Aurochs, Aurochs, Domestic Cattle (Feral), Dom...         Not At Risk   \n",
       "3  Domestic Sheep, Mouflon, Red Sheep, Sheep (Feral)         Not At Risk   \n",
       "4                                      Wapiti Or Elk         Not At Risk   \n",
       "\n",
       "    risk   moss  \n",
       "0  False  False  \n",
       "1  False  False  \n",
       "2  False  False  \n",
       "3  False  False  \n",
       "4  False  False  "
      ]
     },
     "execution_count": 255,
     "metadata": {},
     "output_type": "execute_result"
    }
   ],
   "source": [
    "# create column to state whether species is moss or not\n",
    "species['moss'] = species.common_names.str.contains('Moss',regex=True)\n",
    "species.head()"
   ]
  },
  {
   "cell_type": "code",
   "execution_count": 257,
   "metadata": {},
   "outputs": [
    {
     "data": {
      "text/html": [
       "<div>\n",
       "<style scoped>\n",
       "    .dataframe tbody tr th:only-of-type {\n",
       "        vertical-align: middle;\n",
       "    }\n",
       "\n",
       "    .dataframe tbody tr th {\n",
       "        vertical-align: top;\n",
       "    }\n",
       "\n",
       "    .dataframe thead th {\n",
       "        text-align: right;\n",
       "    }\n",
       "</style>\n",
       "<table border=\"1\" class=\"dataframe\">\n",
       "  <thead>\n",
       "    <tr style=\"text-align: right;\">\n",
       "      <th></th>\n",
       "      <th>category</th>\n",
       "      <th>scientific_name</th>\n",
       "      <th>common_names</th>\n",
       "      <th>conservation_status</th>\n",
       "      <th>risk</th>\n",
       "      <th>moss</th>\n",
       "    </tr>\n",
       "  </thead>\n",
       "  <tbody>\n",
       "    <tr>\n",
       "      <th>1289</th>\n",
       "      <td>Vascular Plant</td>\n",
       "      <td>Phlox subulata</td>\n",
       "      <td>Moss Phlox</td>\n",
       "      <td>Not At Risk</td>\n",
       "      <td>False</td>\n",
       "      <td>True</td>\n",
       "    </tr>\n",
       "    <tr>\n",
       "      <th>1749</th>\n",
       "      <td>Vascular Plant</td>\n",
       "      <td>Huperzia lucidula</td>\n",
       "      <td>Shining Clubmoss, Shining Club-Moss</td>\n",
       "      <td>Not At Risk</td>\n",
       "      <td>False</td>\n",
       "      <td>True</td>\n",
       "    </tr>\n",
       "    <tr>\n",
       "      <th>2609</th>\n",
       "      <td>Vascular Plant</td>\n",
       "      <td>Sedum acre</td>\n",
       "      <td>Gold-Moss, Mossy Stonecrop</td>\n",
       "      <td>Not At Risk</td>\n",
       "      <td>False</td>\n",
       "      <td>True</td>\n",
       "    </tr>\n",
       "    <tr>\n",
       "      <th>2643</th>\n",
       "      <td>Vascular Plant</td>\n",
       "      <td>Selaginella apoda</td>\n",
       "      <td>Meadow Spike-Moss</td>\n",
       "      <td>Not At Risk</td>\n",
       "      <td>False</td>\n",
       "      <td>True</td>\n",
       "    </tr>\n",
       "    <tr>\n",
       "      <th>2679</th>\n",
       "      <td>Nonvascular Plant</td>\n",
       "      <td>Andreaea rothii</td>\n",
       "      <td>Roth's Andreaea Moss</td>\n",
       "      <td>Not At Risk</td>\n",
       "      <td>False</td>\n",
       "      <td>True</td>\n",
       "    </tr>\n",
       "    <tr>\n",
       "      <th>2680</th>\n",
       "      <td>Nonvascular Plant</td>\n",
       "      <td>Andreaea rupestris</td>\n",
       "      <td>Andreaea Moss</td>\n",
       "      <td>Not At Risk</td>\n",
       "      <td>False</td>\n",
       "      <td>True</td>\n",
       "    </tr>\n",
       "    <tr>\n",
       "      <th>2681</th>\n",
       "      <td>Nonvascular Plant</td>\n",
       "      <td>Bartramia pomiformis</td>\n",
       "      <td>Bartramia Moss</td>\n",
       "      <td>Not At Risk</td>\n",
       "      <td>False</td>\n",
       "      <td>True</td>\n",
       "    </tr>\n",
       "    <tr>\n",
       "      <th>2682</th>\n",
       "      <td>Nonvascular Plant</td>\n",
       "      <td>Philonotis fontana</td>\n",
       "      <td>Philonotis Moss</td>\n",
       "      <td>Not At Risk</td>\n",
       "      <td>False</td>\n",
       "      <td>True</td>\n",
       "    </tr>\n",
       "    <tr>\n",
       "      <th>2683</th>\n",
       "      <td>Nonvascular Plant</td>\n",
       "      <td>Philonotis fontana var. pumila</td>\n",
       "      <td>Philonotis Moss</td>\n",
       "      <td>Not At Risk</td>\n",
       "      <td>False</td>\n",
       "      <td>True</td>\n",
       "    </tr>\n",
       "    <tr>\n",
       "      <th>2684</th>\n",
       "      <td>Nonvascular Plant</td>\n",
       "      <td>Philonotis longiseta</td>\n",
       "      <td>Philonotis Moss</td>\n",
       "      <td>Not At Risk</td>\n",
       "      <td>False</td>\n",
       "      <td>True</td>\n",
       "    </tr>\n",
       "  </tbody>\n",
       "</table>\n",
       "</div>"
      ],
      "text/plain": [
       "               category                 scientific_name  \\\n",
       "1289     Vascular Plant                  Phlox subulata   \n",
       "1749     Vascular Plant               Huperzia lucidula   \n",
       "2609     Vascular Plant                      Sedum acre   \n",
       "2643     Vascular Plant               Selaginella apoda   \n",
       "2679  Nonvascular Plant                 Andreaea rothii   \n",
       "2680  Nonvascular Plant              Andreaea rupestris   \n",
       "2681  Nonvascular Plant            Bartramia pomiformis   \n",
       "2682  Nonvascular Plant              Philonotis fontana   \n",
       "2683  Nonvascular Plant  Philonotis fontana var. pumila   \n",
       "2684  Nonvascular Plant            Philonotis longiseta   \n",
       "\n",
       "                             common_names conservation_status   risk  moss  \n",
       "1289                           Moss Phlox         Not At Risk  False  True  \n",
       "1749  Shining Clubmoss, Shining Club-Moss         Not At Risk  False  True  \n",
       "2609           Gold-Moss, Mossy Stonecrop         Not At Risk  False  True  \n",
       "2643                    Meadow Spike-Moss         Not At Risk  False  True  \n",
       "2679                 Roth's Andreaea Moss         Not At Risk  False  True  \n",
       "2680                        Andreaea Moss         Not At Risk  False  True  \n",
       "2681                       Bartramia Moss         Not At Risk  False  True  \n",
       "2682                      Philonotis Moss         Not At Risk  False  True  \n",
       "2683                      Philonotis Moss         Not At Risk  False  True  \n",
       "2684                      Philonotis Moss         Not At Risk  False  True  "
      ]
     },
     "execution_count": 257,
     "metadata": {},
     "output_type": "execute_result"
    }
   ],
   "source": [
    "# view moss species sample\n",
    "species[species.moss == True].head(10)"
   ]
  },
  {
   "cell_type": "markdown",
   "metadata": {},
   "source": [
    "Now that the moss species have been identified the observations of these moss species needs to be found across each national park. To do this the observations table will be merged with the species table."
   ]
  },
  {
   "cell_type": "code",
   "execution_count": 258,
   "metadata": {},
   "outputs": [
    {
     "data": {
      "text/html": [
       "<div>\n",
       "<style scoped>\n",
       "    .dataframe tbody tr th:only-of-type {\n",
       "        vertical-align: middle;\n",
       "    }\n",
       "\n",
       "    .dataframe tbody tr th {\n",
       "        vertical-align: top;\n",
       "    }\n",
       "\n",
       "    .dataframe thead th {\n",
       "        text-align: right;\n",
       "    }\n",
       "</style>\n",
       "<table border=\"1\" class=\"dataframe\">\n",
       "  <thead>\n",
       "    <tr style=\"text-align: right;\">\n",
       "      <th></th>\n",
       "      <th>scientific_name</th>\n",
       "      <th>park_name</th>\n",
       "      <th>observations</th>\n",
       "      <th>category</th>\n",
       "      <th>common_names</th>\n",
       "      <th>conservation_status</th>\n",
       "      <th>risk</th>\n",
       "      <th>moss</th>\n",
       "    </tr>\n",
       "  </thead>\n",
       "  <tbody>\n",
       "    <tr>\n",
       "      <th>0</th>\n",
       "      <td>Diphyscium cumberlandianum</td>\n",
       "      <td>Yellowstone National Park</td>\n",
       "      <td>250</td>\n",
       "      <td>Nonvascular Plant</td>\n",
       "      <td>Cumberland Diphyscium Moss</td>\n",
       "      <td>Not At Risk</td>\n",
       "      <td>False</td>\n",
       "      <td>True</td>\n",
       "    </tr>\n",
       "    <tr>\n",
       "      <th>1</th>\n",
       "      <td>Diphyscium cumberlandianum</td>\n",
       "      <td>Yosemite National Park</td>\n",
       "      <td>123</td>\n",
       "      <td>Nonvascular Plant</td>\n",
       "      <td>Cumberland Diphyscium Moss</td>\n",
       "      <td>Not At Risk</td>\n",
       "      <td>False</td>\n",
       "      <td>True</td>\n",
       "    </tr>\n",
       "    <tr>\n",
       "      <th>2</th>\n",
       "      <td>Diphyscium cumberlandianum</td>\n",
       "      <td>Great Smoky Mountains National Park</td>\n",
       "      <td>51</td>\n",
       "      <td>Nonvascular Plant</td>\n",
       "      <td>Cumberland Diphyscium Moss</td>\n",
       "      <td>Not At Risk</td>\n",
       "      <td>False</td>\n",
       "      <td>True</td>\n",
       "    </tr>\n",
       "    <tr>\n",
       "      <th>3</th>\n",
       "      <td>Diphyscium cumberlandianum</td>\n",
       "      <td>Bryce National Park</td>\n",
       "      <td>93</td>\n",
       "      <td>Nonvascular Plant</td>\n",
       "      <td>Cumberland Diphyscium Moss</td>\n",
       "      <td>Not At Risk</td>\n",
       "      <td>False</td>\n",
       "      <td>True</td>\n",
       "    </tr>\n",
       "    <tr>\n",
       "      <th>4</th>\n",
       "      <td>Fabronia ciliaris</td>\n",
       "      <td>Great Smoky Mountains National Park</td>\n",
       "      <td>72</td>\n",
       "      <td>Nonvascular Plant</td>\n",
       "      <td>Fabronia Moss</td>\n",
       "      <td>Not At Risk</td>\n",
       "      <td>False</td>\n",
       "      <td>True</td>\n",
       "    </tr>\n",
       "    <tr>\n",
       "      <th>5</th>\n",
       "      <td>Fabronia ciliaris</td>\n",
       "      <td>Bryce National Park</td>\n",
       "      <td>111</td>\n",
       "      <td>Nonvascular Plant</td>\n",
       "      <td>Fabronia Moss</td>\n",
       "      <td>Not At Risk</td>\n",
       "      <td>False</td>\n",
       "      <td>True</td>\n",
       "    </tr>\n",
       "    <tr>\n",
       "      <th>6</th>\n",
       "      <td>Fabronia ciliaris</td>\n",
       "      <td>Yellowstone National Park</td>\n",
       "      <td>214</td>\n",
       "      <td>Nonvascular Plant</td>\n",
       "      <td>Fabronia Moss</td>\n",
       "      <td>Not At Risk</td>\n",
       "      <td>False</td>\n",
       "      <td>True</td>\n",
       "    </tr>\n",
       "    <tr>\n",
       "      <th>7</th>\n",
       "      <td>Fabronia ciliaris</td>\n",
       "      <td>Yosemite National Park</td>\n",
       "      <td>146</td>\n",
       "      <td>Nonvascular Plant</td>\n",
       "      <td>Fabronia Moss</td>\n",
       "      <td>Not At Risk</td>\n",
       "      <td>False</td>\n",
       "      <td>True</td>\n",
       "    </tr>\n",
       "    <tr>\n",
       "      <th>8</th>\n",
       "      <td>Ptilium crista-castrensis</td>\n",
       "      <td>Bryce National Park</td>\n",
       "      <td>109</td>\n",
       "      <td>Nonvascular Plant</td>\n",
       "      <td>Knights Plume Moss</td>\n",
       "      <td>Not At Risk</td>\n",
       "      <td>False</td>\n",
       "      <td>True</td>\n",
       "    </tr>\n",
       "    <tr>\n",
       "      <th>9</th>\n",
       "      <td>Ptilium crista-castrensis</td>\n",
       "      <td>Yosemite National Park</td>\n",
       "      <td>112</td>\n",
       "      <td>Nonvascular Plant</td>\n",
       "      <td>Knights Plume Moss</td>\n",
       "      <td>Not At Risk</td>\n",
       "      <td>False</td>\n",
       "      <td>True</td>\n",
       "    </tr>\n",
       "  </tbody>\n",
       "</table>\n",
       "</div>"
      ],
      "text/plain": [
       "              scientific_name                            park_name  \\\n",
       "0  Diphyscium cumberlandianum            Yellowstone National Park   \n",
       "1  Diphyscium cumberlandianum               Yosemite National Park   \n",
       "2  Diphyscium cumberlandianum  Great Smoky Mountains National Park   \n",
       "3  Diphyscium cumberlandianum                  Bryce National Park   \n",
       "4           Fabronia ciliaris  Great Smoky Mountains National Park   \n",
       "5           Fabronia ciliaris                  Bryce National Park   \n",
       "6           Fabronia ciliaris            Yellowstone National Park   \n",
       "7           Fabronia ciliaris               Yosemite National Park   \n",
       "8   Ptilium crista-castrensis                  Bryce National Park   \n",
       "9   Ptilium crista-castrensis               Yosemite National Park   \n",
       "\n",
       "   observations           category                common_names  \\\n",
       "0           250  Nonvascular Plant  Cumberland Diphyscium Moss   \n",
       "1           123  Nonvascular Plant  Cumberland Diphyscium Moss   \n",
       "2            51  Nonvascular Plant  Cumberland Diphyscium Moss   \n",
       "3            93  Nonvascular Plant  Cumberland Diphyscium Moss   \n",
       "4            72  Nonvascular Plant               Fabronia Moss   \n",
       "5           111  Nonvascular Plant               Fabronia Moss   \n",
       "6           214  Nonvascular Plant               Fabronia Moss   \n",
       "7           146  Nonvascular Plant               Fabronia Moss   \n",
       "8           109  Nonvascular Plant          Knights Plume Moss   \n",
       "9           112  Nonvascular Plant          Knights Plume Moss   \n",
       "\n",
       "  conservation_status   risk  moss  \n",
       "0         Not At Risk  False  True  \n",
       "1         Not At Risk  False  True  \n",
       "2         Not At Risk  False  True  \n",
       "3         Not At Risk  False  True  \n",
       "4         Not At Risk  False  True  \n",
       "5         Not At Risk  False  True  \n",
       "6         Not At Risk  False  True  \n",
       "7         Not At Risk  False  True  \n",
       "8         Not At Risk  False  True  \n",
       "9         Not At Risk  False  True  "
      ]
     },
     "execution_count": 258,
     "metadata": {},
     "output_type": "execute_result"
    }
   ],
   "source": [
    "# merge observations table for combined table where moss is true\n",
    "moss_obs = observations.merge(species[species.moss == True],on='scientific_name')\n",
    "moss_obs.head(10)"
   ]
  },
  {
   "cell_type": "markdown",
   "metadata": {},
   "source": [
    "The dataframe now contains the observations for each moss in each park. Total observation numbers of moss can be calculated and this can be plotted to see the distribution."
   ]
  },
  {
   "cell_type": "code",
   "execution_count": 266,
   "metadata": {},
   "outputs": [
    {
     "data": {
      "text/html": [
       "<div>\n",
       "<style scoped>\n",
       "    .dataframe tbody tr th:only-of-type {\n",
       "        vertical-align: middle;\n",
       "    }\n",
       "\n",
       "    .dataframe tbody tr th {\n",
       "        vertical-align: top;\n",
       "    }\n",
       "\n",
       "    .dataframe thead th {\n",
       "        text-align: right;\n",
       "    }\n",
       "</style>\n",
       "<table border=\"1\" class=\"dataframe\">\n",
       "  <thead>\n",
       "    <tr style=\"text-align: right;\">\n",
       "      <th></th>\n",
       "      <th>park_name</th>\n",
       "      <th>observations</th>\n",
       "    </tr>\n",
       "  </thead>\n",
       "  <tbody>\n",
       "    <tr>\n",
       "      <th>0</th>\n",
       "      <td>Bryce National Park</td>\n",
       "      <td>28960</td>\n",
       "    </tr>\n",
       "    <tr>\n",
       "      <th>1</th>\n",
       "      <td>Great Smoky Mountains National Park</td>\n",
       "      <td>21638</td>\n",
       "    </tr>\n",
       "    <tr>\n",
       "      <th>2</th>\n",
       "      <td>Yellowstone National Park</td>\n",
       "      <td>72783</td>\n",
       "    </tr>\n",
       "    <tr>\n",
       "      <th>3</th>\n",
       "      <td>Yosemite National Park</td>\n",
       "      <td>43662</td>\n",
       "    </tr>\n",
       "  </tbody>\n",
       "</table>\n",
       "</div>"
      ],
      "text/plain": [
       "                             park_name  observations\n",
       "0                  Bryce National Park         28960\n",
       "1  Great Smoky Mountains National Park         21638\n",
       "2            Yellowstone National Park         72783\n",
       "3               Yosemite National Park         43662"
      ]
     },
     "execution_count": 266,
     "metadata": {},
     "output_type": "execute_result"
    }
   ],
   "source": [
    "# create dataframe of the total moss observations per park\n",
    "moss_park = moss_obs.groupby('park_name')['observations'].sum().reset_index()\n",
    "moss_park"
   ]
  },
  {
   "cell_type": "code",
   "execution_count": 270,
   "metadata": {},
   "outputs": [
    {
     "data": {
      "text/plain": [
       "Text(-9.075000000000003, 0.5, 'Number of Observations')"
      ]
     },
     "execution_count": 270,
     "metadata": {},
     "output_type": "execute_result"
    },
    {
     "data": {
      "image/png": "[encoded data removed]",
      "text/plain": [
       "<Figure size 720x360 with 1 Axes>"
      ]
     },
     "metadata": {
      "needs_background": "light"
     },
     "output_type": "display_data"
    }
   ],
   "source": [
    "# plot the moss observations data\n",
    "sns.catplot(data=moss_park, x='park_name', y='observations', kind='bar', height=5, aspect=2)\n",
    "plt.title('Observations of Moss in National Parks')\n",
    "plt.xlabel('National Park')\n",
    "plt.ylabel('Number of Observations')"
   ]
  },
  {
   "cell_type": "markdown",
   "metadata": {},
   "source": [
    "It is clear that Yellowstone National Park has the most observations of Moss over the past 7 days and Great Smoky Mountains had the least."
   ]
  },
  {
   "cell_type": "markdown",
   "metadata": {},
   "source": [
    "## Conclusion\n",
    "\n",
    "Data has been analysed and visualised to answer the below questions.\n",
    "\n",
    "- What is the distribution of the conservation status of species? \n",
    "Most species in the data are not at risk (5633) but of those that are at risk (191) most of these were in 'Species of Concern' status (161).\n",
    "- Does particular National Parks have more endagered species?\n",
    "From the data it was found that the National Parks had the same amount of endangered species. This is more likely a result of the simulated data.\n",
    "- Are certain categories of species more likely to be endangered?\n",
    "Mammals and Birds are the species that are most at risk with 17% of Mammals being at risk and 15% of Birds at risk. \n",
    "- What is the distribution between parks of the most prevelant and least prevelant species?\n",
    "The most prevalent species were Moss and these were most prevalent in Yellowstone National Park."
   ]
  }
 ],
 "metadata": {
  "kernelspec": {
   "display_name": "Python 3 (ipykernel)",
   "language": "python",
   "name": "python3"
  },
  "language_info": {
   "codemirror_mode": {
    "name": "ipython",
    "version": 3
   },
   "file_extension": ".py",
   "mimetype": "text/x-python",
   "name": "python",
   "nbconvert_exporter": "python",
   "pygments_lexer": "ipython3",
   "version": "3.9.7"
  }
 },
 "nbformat": 4,
 "nbformat_minor": 4
}
